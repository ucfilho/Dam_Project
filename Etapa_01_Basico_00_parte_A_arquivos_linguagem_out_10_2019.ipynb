{
  "nbformat": 4,
  "nbformat_minor": 0,
  "metadata": {
    "colab": {
      "name": "Etapa_01_Basico_00_parte_A_arquivos_linguagem_out_10_2019.ipynb",
      "provenance": [],
      "collapsed_sections": [],
      "include_colab_link": true
    },
    "kernelspec": {
      "name": "python3",
      "display_name": "Python 3"
    }
  },
  "cells": [
    {
      "cell_type": "markdown",
      "metadata": {
        "id": "view-in-github",
        "colab_type": "text"
      },
      "source": [
        "<a href=\"https://colab.research.google.com/github/ucfilho/Dam_Project/blob/master/Etapa_01_Basico_00_parte_A_arquivos_linguagem_out_10_2019.ipynb\" target=\"_parent\"><img src=\"https://colab.research.google.com/assets/colab-badge.svg\" alt=\"Open In Colab\"/></a>"
      ]
    },
    {
      "cell_type": "code",
      "metadata": {
        "id": "xabV014TkUA0",
        "colab_type": "code",
        "colab": {}
      },
      "source": [
        "import numpy as np\n",
        "import pandas as pd"
      ],
      "execution_count": 0,
      "outputs": []
    },
    {
      "cell_type": "markdown",
      "metadata": {
        "id": "tI4FNMWLkxwP",
        "colab_type": "text"
      },
      "source": [
        "\n",
        "**Pandas**\n",
        "1. You can think of pandas as an extremely powerful version of Excel, with a lot more features.\n",
        "\n",
        "2. DataFrames are the workhorse of pandas and are directly inspired by the R programming language"
      ]
    },
    {
      "cell_type": "markdown",
      "metadata": {
        "id": "1ka3YDJzlzhl",
        "colab_type": "text"
      },
      "source": [
        "**Numpy**\n",
        "1. NumPy is, just like SciPy, Scikit-Learn, Pandas, etc. one of the packages that you just can’t miss when you’re learning data science, mainly because this library provides you with an array data structure that holds some benefits over Python lists\n",
        "2. Numpy is more compact, faster access in reading and writing items, being more convenient and more efficient than list\n",
        "3. https://www.datacamp.com/community/tutorials/python-numpy-tutorial"
      ]
    }
  ]
}