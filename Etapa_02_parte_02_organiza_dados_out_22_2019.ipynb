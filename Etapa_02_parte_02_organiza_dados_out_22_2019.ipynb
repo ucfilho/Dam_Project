{
  "nbformat": 4,
  "nbformat_minor": 0,
  "metadata": {
    "colab": {
      "name": "Etapa_02_parte_02_organiza_dados_out_22_2019.ipynb",
      "provenance": [],
      "collapsed_sections": [],
      "include_colab_link": true
    },
    "kernelspec": {
      "name": "python3",
      "display_name": "Python 3"
    }
  },
  "cells": [
    {
      "cell_type": "markdown",
      "metadata": {
        "id": "view-in-github",
        "colab_type": "text"
      },
      "source": [
        "<a href=\"https://colab.research.google.com/github/ucfilho/Dam_Project/blob/master/Etapa_02_parte_02_organiza_dados_out_22_2019.ipynb\" target=\"_parent\"><img src=\"https://colab.research.google.com/assets/colab-badge.svg\" alt=\"Open In Colab\"/></a>"
      ]
    },
    {
      "cell_type": "code",
      "metadata": {
        "id": "lROyKd5EXNrX",
        "colab_type": "code",
        "colab": {}
      },
      "source": [
        ""
      ],
      "execution_count": 0,
      "outputs": []
    },
    {
      "cell_type": "code",
      "metadata": {
        "id": "xabV014TkUA0",
        "colab_type": "code",
        "colab": {}
      },
      "source": [
        "# carrega bibliotecas principais\n",
        "import numpy as np\n",
        "import pandas as pd\n",
        "from pandas import read_excel"
      ],
      "execution_count": 0,
      "outputs": []
    },
    {
      "cell_type": "code",
      "metadata": {
        "id": "4UxbasKHkWsQ",
        "colab_type": "code",
        "outputId": "9d02739a-c2d4-4723-e9ce-5c4bbf53df0f",
        "colab": {
          "resources": {
            "http://localhost:8080/nbextensions/google.colab/files.js": {
              "data": "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",
              "ok": true,
              "headers": [
                [
                  "content-type",
                  "application/javascript"
                ]
              ],
              "status": 200,
              "status_text": ""
            }
          },
          "base_uri": "https://localhost:8080/",
          "height": 74
        }
      },
      "source": [
        "# clicar no botao e selecionar o arquivo\n",
        "from google.colab import files\n",
        "def getLocalFiles():\n",
        "    _files = files.upload()\n",
        "    if len(_files) >0:\n",
        "       for k,v in _files.items():\n",
        "         open(k,'wb').write(v)\n",
        "getLocalFiles()"
      ],
      "execution_count": 0,
      "outputs": [
        {
          "output_type": "display_data",
          "data": {
            "text/html": [
              "\n",
              "     <input type=\"file\" id=\"files-54e9a3c5-da7f-47d0-86ec-3696ebf69b69\" name=\"files[]\" multiple disabled />\n",
              "     <output id=\"result-54e9a3c5-da7f-47d0-86ec-3696ebf69b69\">\n",
              "      Upload widget is only available when the cell has been executed in the\n",
              "      current browser session. Please rerun this cell to enable.\n",
              "      </output>\n",
              "      <script src=\"/nbextensions/google.colab/files.js\"></script> "
            ],
            "text/plain": [
              "<IPython.core.display.HTML object>"
            ]
          },
          "metadata": {
            "tags": []
          }
        },
        {
          "output_type": "stream",
          "text": [
            "Saving Planilha campo_E6.xlsx to Planilha campo_E6 (2).xlsx\n"
          ],
          "name": "stdout"
        }
      ]
    },
    {
      "cell_type": "code",
      "metadata": {
        "id": "wNMnJvtZRArO",
        "colab_type": "code",
        "outputId": "8e0b1064-02f9-4b73-b9fe-b5b27eb3f83c",
        "colab": {
          "base_uri": "https://localhost:8080/",
          "height": 170
        }
      },
      "source": [
        "my_sheet = 'parcelas'\n",
        "file_name = 'Planilha campo_E6.xlsx' # name of your excel file\n",
        "df = read_excel(file_name, sheet_name = my_sheet,header=1)\n",
        "pd.set_option('display.max_columns', 30)\n",
        "print(df.head(3))"
      ],
      "execution_count": 0,
      "outputs": [
        {
          "output_type": "stream",
          "text": [
            "   Est.  Parc  N árv   Nome comum      Nome científico             Família  \\\n",
            "0     1     1      1  unha-de-boi   Bauhinia forficata  Fabaceae-Cercideae   \n",
            "1     1     1      2    pau-pombo  Tapirira guianensis       Anacardiaceae   \n",
            "2     1     1      3     pororoca          Myrsine sp.         Primulaceae   \n",
            "\n",
            "   CAP(cm)    DAP(cm)  H(m)  HC(m)  \n",
            "0       32  10.185916  11.0    NaN  \n",
            "1       94  29.921129  14.0    3.0  \n",
            "2       40  12.732395  10.0    NaN  \n"
          ],
          "name": "stdout"
        }
      ]
    },
    {
      "cell_type": "code",
      "metadata": {
        "id": "h8pu_qL6jf4Y",
        "colab_type": "code",
        "outputId": "ea182b43-8c75-4f63-a691-3f9b2943a51d",
        "colab": {
          "base_uri": "https://localhost:8080/",
          "height": 34
        }
      },
      "source": [
        "print(df.shape)"
      ],
      "execution_count": 0,
      "outputs": [
        {
          "output_type": "stream",
          "text": [
            "(759, 10)\n"
          ],
          "name": "stdout"
        }
      ]
    },
    {
      "cell_type": "code",
      "metadata": {
        "id": "BoF7LpAIaf3D",
        "colab_type": "code",
        "colab": {}
      },
      "source": [
        "#print(df['Nome comum'])"
      ],
      "execution_count": 0,
      "outputs": []
    },
    {
      "cell_type": "code",
      "metadata": {
        "id": "b1_wFRW6c77h",
        "colab_type": "code",
        "colab": {}
      },
      "source": [
        "numbers = np.unique(df['Nome comum'], return_inverse=True)\n",
        "#print(numbers)"
      ],
      "execution_count": 0,
      "outputs": []
    },
    {
      "cell_type": "code",
      "metadata": {
        "id": "p8ZiZ8rGdR0B",
        "colab_type": "code",
        "outputId": "7f6a294b-7580-4051-ffb7-f503d684e1c2",
        "colab": {
          "base_uri": "https://localhost:8080/",
          "height": 561
        }
      },
      "source": [
        "print(numbers[1])"
      ],
      "execution_count": 0,
      "outputs": [
        {
          "output_type": "stream",
          "text": [
            "[79 65 73 69 69 30 30 47 65 79 79 16 65 65 49 60 73 59 73 65 65 73 73 73\n",
            " 69 73 69 69 59 79 59 16 65 65 16 16  3 31 16 79 65 46 46 18 65 65 59 16\n",
            " 65 18 18 30 59 59 69 65 69 65 69 52 65 52 65 69 65 59  9 24 24 24  9  9\n",
            " 59 45 65 12 38 12 21  9 65 65 65 30 37 37 65 65 65 12 65 65 69 52 65 52\n",
            " 52 73 65 65 30 30 59 65  7 18  4  4 26  3  7  7 65 28 15 15 47 47 45  7\n",
            "  7 58 72 72  7  8 79 45 45 19 12 45 45 47 17  8 76 18 36 17 79 79 31 60\n",
            " 79 43 43 58 75 79 76 80 76 74  7 77 30 79 14 31 17  1 73 65  7 45 22 17\n",
            " 43 79 18 36 82 82 12 64 20 59 59 59 59 46 59  3 59 59 36 36 41 12 46 27\n",
            "  3 63 63 82  3 14 14 59 35 12 59 46 46 46 82 12  9  3 46 48  3 27 27 12\n",
            " 27 14 35 59 27  3 16 46 32 36 59 12 27  3  3  3  3  3 39 66 71 71 57 29\n",
            " 11 42 71 71 66 66 29 63 78 78 59 29 23 66 66 11 29 78 29 71 71 71 71 66\n",
            " 25 59 39 66 66 66 29 29 11 66 11 57 63 11 11 59 29 59 66 57 71 71 71 71\n",
            " 71 71 71 71 66 66 66 63 57 66 11  5 71 66 66 29 29 66 63 66 11 11  5 71\n",
            " 71 66 66 66 59 57 66 66 70 29 66 11 59 13 29 29 29 71 71 57 66 77 59 27\n",
            " 45 59  6 20 20 45 45 45 45 27 45 45 27  6  0  0 27  6 27 27  6  0 27 27\n",
            "  6 27 45 45 10 27  6 77 27 27 45 45  6 27 59  6  6 45  6 36 59 59 59  6\n",
            "  6 45 27 27 77 20 45 45 45 27 36 36 67 54 27 27 45  0 21 77 27 27 27 81\n",
            " 27 27 67  6 67 77 12  6 27 27 20 20  2  6  6 72 27 27 27 27 27 27 27 27\n",
            " 20 67 27 27 27 27 45 45 45 70 59 35 27 27 77 27 21 45 45 27 27 27 27 27\n",
            " 77 67 27 27 27 27 50 45 45 53 27 45 25 65 59 27 27 27 27 27 65 27 27 53\n",
            " 27 12 27 27 53 33 27 53 27 27 27 27 27 27 27 27 27 53 27 53 27 53 59 27\n",
            " 27 53 27 27 68 27 53 61 57 66 66 66 11 66 66 71 71 71 11 11 66 66 65 65\n",
            " 65 65 65 65 66 59 66 66 66 66 66 61 71 71 71 71 71 71 71 29 57 57 29 57\n",
            " 12 29 29 29 29 57 12 12 12 12 57 57 57 57 57 61 61 61 11 33 57 57 57 71\n",
            " 71 66 57 57 59 59 71 57 66 66 66 66 29 57 57 29 29 66 71 59 59 71 16 21\n",
            " 34 59 59 16 56 59 59 59 59 36 53 56 59 56 27 34 20 34 34 12 12 56 12 56\n",
            " 21 71 71 71 53 59 59 18 55 27 72 72 35 34 32 32 35 35 71 71 71 55 71 77\n",
            " 55 77 53 56 77 77 63 53 57 57 21 53 53 21 40 56 36 59 56 71 56 21 56 34\n",
            " 34 34 59 56 78 29 59 57 57 40 61 71 71 71 71 51 51 71 40 40 40 40 57 57\n",
            " 29 29 29 57 71 71 29 71 78 78 78 66 62 71 29 66 78 66 66 29 78 11 71 66\n",
            " 71 66 29 66 12 71 66 66 66 71 71 71 71 66 11 71 66 59 59 57 71 71 71 71\n",
            " 71 71 65 57 57 78 11 11 57 57 57 71 71 44 12]\n"
          ],
          "name": "stdout"
        }
      ]
    },
    {
      "cell_type": "code",
      "metadata": {
        "id": "pvKD5JCU3Sem",
        "colab_type": "code",
        "colab": {}
      },
      "source": [
        "df['Tree']=pd.Series(numbers[1])"
      ],
      "execution_count": 0,
      "outputs": []
    },
    {
      "cell_type": "code",
      "metadata": {
        "id": "uZnjL__M3oY_",
        "colab_type": "code",
        "outputId": "79f27314-a52f-4de2-df1f-2c15caaeb49b",
        "colab": {
          "base_uri": "https://localhost:8080/",
          "height": 170
        }
      },
      "source": [
        "pd.set_option('display.max_columns', 30)\n",
        "print(df.head(3))"
      ],
      "execution_count": 0,
      "outputs": [
        {
          "output_type": "stream",
          "text": [
            "   Est.  Parc  N árv   Nome comum      Nome científico             Família  \\\n",
            "0     1     1      1  unha-de-boi   Bauhinia forficata  Fabaceae-Cercideae   \n",
            "1     1     1      2    pau-pombo  Tapirira guianensis       Anacardiaceae   \n",
            "2     1     1      3     pororoca          Myrsine sp.         Primulaceae   \n",
            "\n",
            "   CAP(cm)    DAP(cm)  H(m)  HC(m)  Tree  \n",
            "0       32  10.185916  11.0    NaN    79  \n",
            "1       94  29.921129  14.0    3.0    65  \n",
            "2       40  12.732395  10.0    NaN    73  \n"
          ],
          "name": "stdout"
        }
      ]
    },
    {
      "cell_type": "code",
      "metadata": {
        "id": "XjMfAUcsUoWs",
        "colab_type": "code",
        "colab": {}
      },
      "source": [
        "#print(df.info())"
      ],
      "execution_count": 0,
      "outputs": []
    },
    {
      "cell_type": "code",
      "metadata": {
        "id": "nHnHANCHbLmA",
        "colab_type": "code",
        "outputId": "beae0ddd-857a-4b4a-8c62-95cc0bdbbeeb",
        "colab": {
          "base_uri": "https://localhost:8080/",
          "height": 170
        }
      },
      "source": [
        "# changing index cols with rename() \n",
        "df.rename(index = {\"N árv\": \"NEW NAME\"}, inplace = True)\n",
        "print(df.head(3))\n",
        "                                 "
      ],
      "execution_count": 0,
      "outputs": [
        {
          "output_type": "stream",
          "text": [
            "   Est.  Parc  N árv   Nome comum      Nome científico             Família  \\\n",
            "0     1     1      1  unha-de-boi   Bauhinia forficata  Fabaceae-Cercideae   \n",
            "1     1     1      2    pau-pombo  Tapirira guianensis       Anacardiaceae   \n",
            "2     1     1      3     pororoca          Myrsine sp.         Primulaceae   \n",
            "\n",
            "   CAP(cm)    DAP(cm)  H(m)  HC(m)  Tree  \n",
            "0       32  10.185916  11.0    NaN    79  \n",
            "1       94  29.921129  14.0    3.0    65  \n",
            "2       40  12.732395  10.0    NaN    73  \n"
          ],
          "name": "stdout"
        }
      ]
    },
    {
      "cell_type": "code",
      "metadata": {
        "id": "ROvaqYF4ZaUA",
        "colab_type": "code",
        "colab": {}
      },
      "source": [
        "#Nome=['N árv', 'Nome comum',    'Nome científico',       'Família'] "
      ],
      "execution_count": 0,
      "outputs": []
    },
    {
      "cell_type": "code",
      "metadata": {
        "id": "-euHWsPYcwLJ",
        "colab_type": "code",
        "colab": {}
      },
      "source": [
        "#Nome=['Tree']"
      ],
      "execution_count": 0,
      "outputs": []
    },
    {
      "cell_type": "code",
      "metadata": {
        "id": "ew3J1k1UZFNS",
        "colab_type": "code",
        "colab": {}
      },
      "source": [
        "#X=df.drop([Nome], axis=1)\n",
        "#print(X.head(3)) # shows headers with top 5 rows"
      ],
      "execution_count": 0,
      "outputs": []
    },
    {
      "cell_type": "code",
      "metadata": {
        "id": "T1RgNcOAdg67",
        "colab_type": "code",
        "outputId": "47bf71aa-aa4a-4a67-9bcb-6e39a393fd61",
        "colab": {
          "base_uri": "https://localhost:8080/",
          "height": 85
        }
      },
      "source": [
        "Nome=['Est.','Parc','CAP(cm)','DAP(cm)','H(m)','HC(m)','Tree'] \n",
        "X=df[Nome]\n",
        "print(X.head(3)) # shows headers with top 5 rows"
      ],
      "execution_count": 0,
      "outputs": [
        {
          "output_type": "stream",
          "text": [
            "   Est.  Parc  CAP(cm)    DAP(cm)  H(m)  HC(m)  Tree\n",
            "0     1     1       32  10.185916  11.0    NaN    79\n",
            "1     1     1       94  29.921129  14.0    3.0    65\n",
            "2     1     1       40  12.732395  10.0    NaN    73\n"
          ],
          "name": "stdout"
        }
      ]
    },
    {
      "cell_type": "code",
      "metadata": {
        "id": "ZIjejHK3hTk9",
        "colab_type": "code",
        "colab": {}
      },
      "source": [
        "X=X.dropna()\n",
        "#print(X.isnull().any())"
      ],
      "execution_count": 0,
      "outputs": []
    },
    {
      "cell_type": "code",
      "metadata": {
        "id": "MJ_PoF4Rf0Hd",
        "colab_type": "code",
        "outputId": "caf5902c-fb47-4a11-fd74-4a1011f216c4",
        "colab": {
          "base_uri": "https://localhost:8080/",
          "height": 153
        }
      },
      "source": [
        "#Nomes=['Parc','CAP(cm)','DAP(cm)','H(m)','HC(m)','Tree']\n",
        "# Discutir com Nayana.\n",
        "Nomes=['Parc','CAP(cm)','DAP(cm)','H(m)','Tree']\n",
        "x=X[Nomes]\n",
        "print(x.head(3))\n",
        "Nomes=['Est.']\n",
        "y = X[Nomes]\n",
        "print(y.head(3))"
      ],
      "execution_count": 0,
      "outputs": [
        {
          "output_type": "stream",
          "text": [
            "    Parc  CAP(cm)    DAP(cm)  H(m)  Tree\n",
            "1      1       94  29.921129  14.0    65\n",
            "8      1      113  35.969017  13.0    65\n",
            "15     1       92  29.284510  12.0    60\n",
            "    Est.\n",
            "1      1\n",
            "8      1\n",
            "15     1\n"
          ],
          "name": "stdout"
        }
      ]
    },
    {
      "cell_type": "code",
      "metadata": {
        "id": "bOQbs_31h5rL",
        "colab_type": "code",
        "outputId": "791a59d6-a9cf-422e-eb1c-a639557f270a",
        "colab": {
          "base_uri": "https://localhost:8080/",
          "height": 34
        }
      },
      "source": [
        "print(x.shape)"
      ],
      "execution_count": 0,
      "outputs": [
        {
          "output_type": "stream",
          "text": [
            "(17, 5)\n"
          ],
          "name": "stdout"
        }
      ]
    }
  ]
}